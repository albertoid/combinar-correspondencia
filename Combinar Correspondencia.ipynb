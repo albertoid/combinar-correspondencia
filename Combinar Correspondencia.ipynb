{
 "cells": [
  {
   "cell_type": "markdown",
   "metadata": {},
   "source": [
    "# Combinar correspondencia"
   ]
  },
  {
   "cell_type": "code",
   "execution_count": 1,
   "metadata": {},
   "outputs": [],
   "source": [
    "import smtplib"
   ]
  },
  {
   "cell_type": "markdown",
   "metadata": {},
   "source": [
    "## Funcion conectar a Gmail"
   ]
  },
  {
   "cell_type": "code",
   "execution_count": 2,
   "metadata": {},
   "outputs": [],
   "source": [
    "#Debe permitirse en la cuenta de google el acceso de apps no seguras para que pueda hacerse la conexion\n",
    "#Guarda tu usuario y contraseña en un archivo, que no sea público, aqui lo hago en el archivo pwd.txt\n",
    "\n",
    "def connectGmail(gmail_user = open('pwd.txt').read().split()[0], gmail_pass = open('pwd.txt').read().split()[1]):\n",
    "    try:\n",
    "        server=smtplib.SMTP_SSL('smtp.gmail.com', 465)\n",
    "        server.ehlo()\n",
    "        server.login(gmail_user, gmail_pass)\n",
    "        #print ('Conectado!')\n",
    "    except:\n",
    "        print ('Algo va mal...verifica el gmail')\n",
    "    \n",
    "    return server"
   ]
  },
  {
   "cell_type": "markdown",
   "metadata": {},
   "source": [
    "## Función para crear cuerpo de correo"
   ]
  },
  {
   "cell_type": "code",
   "execution_count": 3,
   "metadata": {},
   "outputs": [],
   "source": [
    "# Reemplaza todos los símbolos %% por las palabras en la lista fields en el orden de ocurrencia\n",
    "def bodyCreator(body,fields):\n",
    "    for i in range(len(fields)):\n",
    "        body=body.replace('%%',fields[i],1)\n",
    "    return body"
   ]
  },
  {
   "cell_type": "markdown",
   "metadata": {},
   "source": [
    "## Función de envio de correos"
   ]
  },
  {
   "cell_type": "code",
   "execution_count": 4,
   "metadata": {},
   "outputs": [],
   "source": [
    "def sendEmail(server='', from_email=open('pwd.txt').read().split()[0], to='', body=''):\n",
    "    server.sendmail(from_email, to, body)\n",
    "    server.close()"
   ]
  },
  {
   "cell_type": "markdown",
   "metadata": {},
   "source": [
    "## Funcion Combinar correspondencia"
   ]
  },
  {
   "cell_type": "code",
   "execution_count": 8,
   "metadata": {},
   "outputs": [],
   "source": [
    "def mailMerge(mails,fields,mailBody):    \n",
    "    for i in range(len(mails)):\n",
    "        #try:\n",
    "        server = connectGmail()\n",
    "        bodyFielded = bodyCreator(mailBody,fields[i])\n",
    "        sendEmail(server=server,to=mails[i],body=bodyFielded)\n",
    "        print('Correo',i,'enviado')\n",
    "        #except:\n",
    "            #print('Fallo en el correo',i)"
   ]
  },
  {
   "cell_type": "code",
   "execution_count": 9,
   "metadata": {},
   "outputs": [],
   "source": [
    "bodytest=\"Estimad%% %% %%: Por medio del presente te saludamos \\n \\n Para informarte que el puesto de % fue ocupado. \\n \\n Gracias\"\n",
    "fieldstest=[['o','Juan', 'Perez','Puesto 1'],['a','Maria', 'Fernandez','Puesto 2']]\n",
    "mailList=['aid1000@hotmail.com','aid1000@hotmail.com']\n"
   ]
  },
  {
   "cell_type": "code",
   "execution_count": 10,
   "metadata": {},
   "outputs": [
    {
     "name": "stdout",
     "output_type": "stream",
     "text": [
      "Correo 0 enviado\n",
      "Correo 1 enviado\n"
     ]
    }
   ],
   "source": [
    "mailMerge(mailList,fieldstest,bodytest)"
   ]
  },
  {
   "cell_type": "code",
   "execution_count": null,
   "metadata": {},
   "outputs": [],
   "source": []
  },
  {
   "cell_type": "markdown",
   "metadata": {},
   "source": []
  },
  {
   "cell_type": "markdown",
   "metadata": {},
   "source": [
    "## Google Sheets"
   ]
  },
  {
   "cell_type": "code",
   "execution_count": null,
   "metadata": {},
   "outputs": [],
   "source": [
    "# Conexióna Google Drive Spreadsheet\n",
    "import gspread\n",
    "from oauth2client.service_account import ServiceAccountCredentials as SAC"
   ]
  },
  {
   "cell_type": "code",
   "execution_count": null,
   "metadata": {},
   "outputs": [],
   "source": [
    "scope = ['https://spreadsheets.google.com/feeds'] \n",
    "creds = SAC.from_json_keyfile_name('CC-client.json',scope)\n",
    "client = gspread.authorize(creds)"
   ]
  },
  {
   "cell_type": "code",
   "execution_count": null,
   "metadata": {},
   "outputs": [],
   "source": [
    "sheet=client.open('Prueba combinar correspondencia').sheet1"
   ]
  }
 ],
 "metadata": {
  "kernelspec": {
   "display_name": "Python 3",
   "language": "python",
   "name": "python3"
  },
  "language_info": {
   "codemirror_mode": {
    "name": "ipython",
    "version": 3
   },
   "file_extension": ".py",
   "mimetype": "text/x-python",
   "name": "python",
   "nbconvert_exporter": "python",
   "pygments_lexer": "ipython3",
   "version": "3.7.7"
  }
 },
 "nbformat": 4,
 "nbformat_minor": 4
}
